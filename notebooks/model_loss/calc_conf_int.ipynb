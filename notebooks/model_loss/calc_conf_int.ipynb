{
 "cells": [
  {
   "cell_type": "markdown",
   "metadata": {},
   "source": [
    "# Some confidence intervals on the expected value of the claim frequency"
   ]
  },
  {
   "cell_type": "code",
   "execution_count": 1,
   "metadata": {},
   "outputs": [],
   "source": [
    "import pandas as pd\n",
    "import matplotlib.pyplot as plt\n",
    "import numpy as np\n",
    "from scipy.stats import poisson, gamma\n",
    "\n",
    "np.random.seed(500)\n",
    "NSIM = 1000\n",
    "N_EXPERIMENTS = 1000\n",
    "mu = 0.5"
   ]
  },
  {
   "cell_type": "code",
   "execution_count": 2,
   "metadata": {},
   "outputs": [],
   "source": [
    "w_i = gamma.rvs(size=(int(NSIM), 1), a=2., scale=100)\n",
    "w_i = np.tile(w_i, (1, N_EXPERIMENTS))\n",
    "poi_rv = poisson(mu=w_i * mu)\n",
    "sample = poi_rv.rvs(size=(NSIM, N_EXPERIMENTS))\n",
    "sample_y = sample / w_i\n",
    "mu_weighted = np.average(sample_y, weights=w_i, axis=0)\n",
    "var_yi = sample_y.var()\n",
    "poi_rv_hat = poisson(mu=mu_weighted * w_i.sum(axis=0))\n",
    "ci_up = poi_rv_hat.ppf(0.975) / w_i.sum(axis=0)\n",
    "ci_low = poi_rv_hat.ppf(0.025) / w_i.sum(axis=0)\n",
    "theoretical_var_ybar = mu / w_i.sum(axis=0)[0]"
   ]
  },
  {
   "cell_type": "code",
   "execution_count": 3,
   "metadata": {},
   "outputs": [
    {
     "data": {
      "text/plain": [
       "2.4716692201888415e-06"
      ]
     },
     "execution_count": 3,
     "metadata": {},
     "output_type": "execute_result"
    }
   ],
   "source": [
    "theoretical_var_ybar"
   ]
  },
  {
   "cell_type": "code",
   "execution_count": 4,
   "metadata": {},
   "outputs": [
    {
     "data": {
      "text/plain": [
       "2.553996105475906e-06"
      ]
     },
     "execution_count": 4,
     "metadata": {},
     "output_type": "execute_result"
    }
   ],
   "source": [
    "np.var(mu_weighted)"
   ]
  },
  {
   "cell_type": "code",
   "execution_count": 5,
   "metadata": {},
   "outputs": [
    {
     "data": {
      "text/plain": [
       "0.952"
      ]
     },
     "execution_count": 5,
     "metadata": {},
     "output_type": "execute_result"
    }
   ],
   "source": [
    "np.sum(\n",
    "    (mu < ci_up) &\n",
    "    (mu >= ci_low)\n",
    "    ) / N_EXPERIMENTS"
   ]
  },
  {
   "cell_type": "code",
   "execution_count": null,
   "metadata": {},
   "outputs": [],
   "source": []
  }
 ],
 "metadata": {
  "kernelspec": {
   "display_name": "base",
   "language": "python",
   "name": "python3"
  },
  "language_info": {
   "codemirror_mode": {
    "name": "ipython",
    "version": 3
   },
   "file_extension": ".py",
   "mimetype": "text/x-python",
   "name": "python",
   "nbconvert_exporter": "python",
   "pygments_lexer": "ipython3",
   "version": "3.11.5"
  }
 },
 "nbformat": 4,
 "nbformat_minor": 2
}
