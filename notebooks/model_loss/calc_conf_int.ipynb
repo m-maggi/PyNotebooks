{
 "cells": [
  {
   "cell_type": "markdown",
   "metadata": {},
   "source": [
    "# Some confidence intervals on the expected value of the claim frequency"
   ]
  },
  {
   "cell_type": "code",
   "execution_count": 72,
   "metadata": {},
   "outputs": [],
   "source": [
    "import pandas as pd\n",
    "import matplotlib.pyplot as plt\n",
    "import numpy as np\n",
    "from scipy.stats import poisson, gamma\n",
    "\n",
    "np.random.seed(500)\n",
    "NSIM = 100\n",
    "mu = 0.5\n",
    "\n",
    "def run():\n",
    "    w_i_1 = gamma.rvs(size=int(NSIM / 2), a=2., scale=10)\n",
    "    w_i_2 = gamma.rvs(size=int(NSIM / 2), a=2., scale=20)\n",
    "    w_i = np.concatenate((w_i_1, w_i_2))\n",
    "  #  w_i = np.repeat(1, NSIM)\n",
    "    poi_rv = poisson(mu=w_i * mu)\n",
    "    sample = poi_rv.rvs(size=NSIM)\n",
    "    sample_y = sample / w_i\n",
    "    mu_weighted = np.average(sample_y, weights=w_i)\n",
    "    mu_unweighted = np.average(sample_y)\n",
    "    var_yi = sample_y.var()\n",
    "    poi_rv_hat = poisson(mu=mu_weighted * w_i.sum())\n",
    "    ci_up = poi_rv_hat.ppf(0.9) / w_i.sum()\n",
    "    ci_low = poi_rv_hat.ppf(0.025) / w_i.sum()\n",
    "    return (ci_low, mu_weighted, ci_up)"
   ]
  },
  {
   "cell_type": "code",
   "execution_count": 73,
   "metadata": {},
   "outputs": [],
   "source": [
    "res = []\n",
    "for i in range(1000):\n",
    "    res.append(run())\n",
    "res = np.array(res)"
   ]
  },
  {
   "cell_type": "code",
   "execution_count": 74,
   "metadata": {},
   "outputs": [
    {
     "data": {
      "text/plain": [
       "898"
      ]
     },
     "execution_count": 74,
     "metadata": {},
     "output_type": "execute_result"
    }
   ],
   "source": [
    "np.sum(\n",
    "    (mu < res[:, -1])\n",
    "   # (mu >= res[:, 0])\n",
    "    )"
   ]
  },
  {
   "cell_type": "code",
   "execution_count": 75,
   "metadata": {},
   "outputs": [
    {
     "data": {
      "text/plain": [
       "array([[0.43741518, 0.46236014, 0.47887301],\n",
       "       [0.46999438, 0.49451306, 0.5107527 ],\n",
       "       [0.47784115, 0.50360541, 0.52043807],\n",
       "       ...,\n",
       "       [0.46768668, 0.49251081, 0.50906023],\n",
       "       [0.46734182, 0.49371803, 0.51117834],\n",
       "       [0.4637063 , 0.48904355, 0.50570366]])"
      ]
     },
     "execution_count": 75,
     "metadata": {},
     "output_type": "execute_result"
    }
   ],
   "source": [
    "res"
   ]
  },
  {
   "cell_type": "code",
   "execution_count": null,
   "metadata": {},
   "outputs": [],
   "source": []
  }
 ],
 "metadata": {
  "kernelspec": {
   "display_name": "base",
   "language": "python",
   "name": "python3"
  },
  "language_info": {
   "codemirror_mode": {
    "name": "ipython",
    "version": 3
   },
   "file_extension": ".py",
   "mimetype": "text/x-python",
   "name": "python",
   "nbconvert_exporter": "python",
   "pygments_lexer": "ipython3",
   "version": "3.11.5"
  }
 },
 "nbformat": 4,
 "nbformat_minor": 2
}
